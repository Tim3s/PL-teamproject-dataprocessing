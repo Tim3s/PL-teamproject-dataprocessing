{
  "nbformat": 4,
  "nbformat_minor": 0,
  "metadata": {
    "colab": {
      "name": "PL test",
      "provenance": [],
      "collapsed_sections": [],
      "mount_file_id": "1OhcSs89Gv55N3yYF3PpvFf4XxCQCrBl4",
      "authorship_tag": "ABX9TyOFnVgeJzIyOiTLdqX1JCeR",
      "include_colab_link": true
    },
    "kernelspec": {
      "name": "python3",
      "display_name": "Python 3"
    },
    "language_info": {
      "name": "python"
    }
  },
  "cells": [
    {
      "cell_type": "markdown",
      "metadata": {
        "id": "view-in-github",
        "colab_type": "text"
      },
      "source": [
        "<a href=\"https://colab.research.google.com/github/Tim3s/PL-teamproject-dataprocessing/blob/main/PL_test.ipynb\" target=\"_parent\"><img src=\"https://colab.research.google.com/assets/colab-badge.svg\" alt=\"Open In Colab\"/></a>"
      ]
    },
    {
      "cell_type": "code",
      "metadata": {
        "id": "RUKAyrqy4Iiv"
      },
      "source": [
        "import numpy as np\n",
        "import pandas as pd\n",
        "import matplotlib.pyplot as plt"
      ],
      "execution_count": 9,
      "outputs": []
    },
    {
      "cell_type": "code",
      "metadata": {
        "colab": {
          "base_uri": "https://localhost:8080/",
          "height": 203
        },
        "id": "L_DXc6HUqHRr",
        "outputId": "8ce81616-0328-4914-b536-470340280ec3"
      },
      "source": [
        "user_profile_csv = pd.read_excel(\"drive/MyDrive/PL_team_project/user_profile.xlsx\")\n",
        "user_profile_csv.head()"
      ],
      "execution_count": 10,
      "outputs": [
        {
          "output_type": "execute_result",
          "data": {
            "text/html": [
              "<div>\n",
              "<style scoped>\n",
              "    .dataframe tbody tr th:only-of-type {\n",
              "        vertical-align: middle;\n",
              "    }\n",
              "\n",
              "    .dataframe tbody tr th {\n",
              "        vertical-align: top;\n",
              "    }\n",
              "\n",
              "    .dataframe thead th {\n",
              "        text-align: right;\n",
              "    }\n",
              "</style>\n",
              "<table border=\"1\" class=\"dataframe\">\n",
              "  <thead>\n",
              "    <tr style=\"text-align: right;\">\n",
              "      <th></th>\n",
              "      <th>id</th>\n",
              "      <th>sex</th>\n",
              "      <th>age</th>\n",
              "    </tr>\n",
              "  </thead>\n",
              "  <tbody>\n",
              "    <tr>\n",
              "      <th>0</th>\n",
              "      <td>228</td>\n",
              "      <td>F</td>\n",
              "      <td>80</td>\n",
              "    </tr>\n",
              "    <tr>\n",
              "      <th>1</th>\n",
              "      <td>230</td>\n",
              "      <td>F</td>\n",
              "      <td>73</td>\n",
              "    </tr>\n",
              "    <tr>\n",
              "      <th>2</th>\n",
              "      <td>232</td>\n",
              "      <td>M</td>\n",
              "      <td>84</td>\n",
              "    </tr>\n",
              "    <tr>\n",
              "      <th>3</th>\n",
              "      <td>273</td>\n",
              "      <td>F</td>\n",
              "      <td>83</td>\n",
              "    </tr>\n",
              "    <tr>\n",
              "      <th>4</th>\n",
              "      <td>276</td>\n",
              "      <td>F</td>\n",
              "      <td>56</td>\n",
              "    </tr>\n",
              "  </tbody>\n",
              "</table>\n",
              "</div>"
            ],
            "text/plain": [
              "    id sex  age\n",
              "0  228   F   80\n",
              "1  230   F   73\n",
              "2  232   M   84\n",
              "3  273   F   83\n",
              "4  276   F   56"
            ]
          },
          "metadata": {},
          "execution_count": 10
        }
      ]
    },
    {
      "cell_type": "code",
      "metadata": {
        "colab": {
          "base_uri": "https://localhost:8080/",
          "height": 265
        },
        "id": "lkVfaylJqMDA",
        "outputId": "0d968312-1ef8-486c-d1ca-bcbc1bbc7dc4"
      },
      "source": [
        "plt.hist(user_profile_csv['age'])\n",
        "plt.show()"
      ],
      "execution_count": 11,
      "outputs": [
        {
          "output_type": "display_data",
          "data": {
            "image/png": "[encoded data removed]",
            "text/plain": [
              "<Figure size 432x288 with 1 Axes>"
            ]
          },
          "metadata": {
            "needs_background": "light"
          }
        }
      ]
    },
    {
      "cell_type": "code",
      "metadata": {
        "colab": {
          "base_uri": "https://localhost:8080/"
        },
        "id": "phWoBMFD50wK",
        "outputId": "142d178f-165d-427e-fccc-f827ab85ba49"
      },
      "source": [
        "print(np.unique(user_profile_csv['sex'], return_counts=True))"
      ],
      "execution_count": 224,
      "outputs": [
        {
          "output_type": "stream",
          "name": "stdout",
          "text": [
            "(array(['F', 'M'], dtype=object), array([130,  40]))\n"
          ]
        }
      ]
    },
    {
      "cell_type": "code",
      "metadata": {
        "colab": {
          "base_uri": "https://localhost:8080/"
        },
        "id": "_AZVpSgu9qxZ",
        "outputId": "bee8031e-f193-4b94-b839-175c8bcef3dd"
      },
      "source": [
        "active_input = []\n",
        "active = np.array([])\n",
        "state = np.array([])\n",
        "target = []\n",
        "valid = []\n",
        "num_of_conversation = []\n",
        "for num in user_profile_csv['id']:\n",
        "    try:\n",
        "        data = pd.read_csv('drive/MyDrive/PL_team_project/hs_' + str(num) + '_m08_0903_1355.csv', encoding='cp949')\n",
        "    except:\n",
        "        print('not found:', num)\n",
        "        continue\n",
        "    \n",
        "    tmp = data['Z']\n",
        "    tmp = [np.sum(np.sum((tmp=='매우 활동', tmp=='외출', tmp=='프로그램'), axis=0)>0),\\\n",
        "            np.sum(np.sum((data=='활동', data=='냉장고', data=='밥솥', data=='싱크대', data=='창문'), axis=0)>0),\\\n",
        "            np.sum(np.sum((data=='미동', data=='리모콘', data=='식사 판단', data=='약', data=='전자렌지'), axis=0)>0),\\\n",
        "            np.sum(np.sum((data=='부동', data=='변기'), axis=0)>0)]\n",
        "    # ['냉장고' '리모콘' '매우 활동' '물' '미동' '밥솥' '변기' '부동' '식사 판단' '싱크대' '약' '외출' '전자렌지'\n",
        "    # '창문' '프로그램' '현관문' '화장실' '활동']\n",
        "    if not sum(tmp):\n",
        "        print('empty:', num)\n",
        "        continue\n",
        "    active_input.append((sum([tmp[i] * (4 - i) for i in range(4)]) / sum(tmp)))\n",
        "\n",
        "    num_of_conversation.append(len(data['STT_1'].dropna()) + len(data['STT_2'].dropna()) + len(data['STT_3'].dropna()))\n",
        "\n",
        "    state = np.unique(np.concatenate((np.unique(data['State']), state)))\n",
        "    active = np.unique(np.concatenate((active, data['Z'].dropna())))\n",
        "    valid.append(num)\n",
        "active_input = np.array(active_input)\n",
        "state.sort()\n",
        "print(state)\n",
        "active.sort()\n",
        "print(active)\n",
        "print(valid)"
      ],
      "execution_count": 226,
      "outputs": [
        {
          "output_type": "stream",
          "name": "stdout",
          "text": [
            "empty: 342\n",
            "empty: 509\n",
            "empty: 530\n",
            "empty: 537\n",
            "empty: 538\n",
            "empty: 540\n",
            "empty: 552\n",
            "empty: 574\n",
            "empty: 633\n",
            "empty: 635\n",
            "empty: 636\n",
            "empty: 653\n",
            "empty: 664\n",
            "empty: 667\n",
            "empty: 732\n",
            "empty: 804\n",
            "empty: 808\n",
            "empty: 1034\n",
            "empty: 30043\n",
            "empty: 30047\n",
            "empty: 30052\n",
            "empty: 30059\n",
            "empty: 30061\n",
            "empty: 30062\n",
            "not found: 30064\n",
            "not found: 30066\n",
            "not found: 30067\n",
            "not found: 30069\n",
            "not found: 30070\n",
            "not found: 30071\n",
            "not found: 30072\n",
            "not found: 30073\n",
            "not found: 30074\n",
            "not found: 30075\n",
            "not found: 30076\n",
            "not found: 30077\n",
            "not found: 30078\n",
            "not found: 30079\n",
            "['TV 보기' '간식 먹기' '간편식 준비하기' '귀가하기' '기상 약 복용' '기상하기' '꿀잠소리' '날씨 확인하기'\n",
            " '낮잠 기상하기' '낮잠자기' '냉장고 정리하기' '노래자랑' '뉴스 시청' '늦은 기상하기' '도전 실버벨' '듣는대화'\n",
            " '마음그림터' '마음세탁소' '마음스트레칭' '명언산책' '무비순이' '밥솥 열기' '밥솥 정리하기' '새벽 TV 시청'\n",
            " '새벽 간식' '새벽 화장실 이용' '석식' '설거지 하기' '수면' '순이 특별대화' '순이극장' '순이대화' '순이인생'\n",
            " '순이책방' '순이체조' '시낭독' '시시콜콜' '식사' '식사 중 TV 시청' '식후 약 복용' '실내운동하기' '실외운동하기'\n",
            " '야식 먹기' '영어교실' '외출하기' '요가명상' '운동 후 귀가' '음식 꺼내기' '이른 기상하기' '일반 약 복용'\n",
            " '일어교실' '전자렌지 청소하기' '조식' '주방 정리하기' '중식' '집 환기하기' '취미활동' '화장실 이용']\n",
            "['냉장고' '리모콘' '매우 활동' '물' '미동' '밥솥' '변기' '부동' '식사 판단' '싱크대' '약' '외출' '전자렌지'\n",
            " '창문' '책상' '프로그램' '현관문' '화장실' '활동']\n",
            "[228, 230, 232, 273, 276, 315, 339, 341, 476, 477, 479, 486, 488, 490, 492, 494, 495, 496, 504, 505, 511, 512, 513, 518, 519, 520, 527, 532, 534, 535, 536, 542, 544, 546, 547, 570, 580, 581, 582, 583, 585, 642, 644, 650, 654, 655, 656, 658, 661, 662, 665, 668, 672, 673, 705, 720, 760, 768, 796, 797, 799, 800, 801, 802, 803, 805, 806, 807, 809, 811, 812, 813, 1001, 1002, 1003, 1004, 1008, 1009, 1011, 1012, 1013, 1015, 1016, 1018, 1019, 1020, 1021, 1022, 1026, 1027, 1028, 1029, 1030, 1032, 1033, 1036, 1037, 1039, 1040, 1042, 1043, 1045, 1046, 1047, 1048, 1050, 1052, 1053, 1054, 1055, 1056, 1057, 1059, 1061, 1062, 30016, 30035, 30038, 30039, 30040, 30041, 30044, 30045, 30046, 30048, 30049, 30050, 30053, 30055, 30056, 30058, 30063]\n"
          ]
        }
      ]
    },
    {
      "cell_type": "code",
      "metadata": {
        "colab": {
          "base_uri": "https://localhost:8080/"
        },
        "id": "vbii7o35ldZV",
        "outputId": "1e4521f2-b774-4e12-e9ab-ae12baa3ea1c"
      },
      "source": [
        "print(np.mean(num_of_conversation), np.std(active_input))"
      ],
      "execution_count": 231,
      "outputs": [
        {
          "output_type": "stream",
          "name": "stdout",
          "text": [
            "16.113636363636363 0.4374060913299517\n"
          ]
        }
      ]
    },
    {
      "cell_type": "code",
      "metadata": {
        "colab": {
          "base_uri": "https://localhost:8080/",
          "height": 300
        },
        "id": "j0OANZqYANXn",
        "outputId": "1be75b38-c2a9-49a3-b710-73f6887b7672"
      },
      "source": [
        "print(np.mean(active_input), np.std(active_input), np.max(active_input))\n",
        "print(valid[np.argmax(active_input)])\n",
        "plt.hist(active_input)\n",
        "plt.show()\n",
        "active_input /= np.max(active_input)"
      ],
      "execution_count": 220,
      "outputs": [
        {
          "output_type": "stream",
          "name": "stdout",
          "text": [
            "2.280007801090782 0.4374060913299517 4.0\n",
            "1045\n"
          ]
        },
        {
          "output_type": "display_data",
          "data": {
            "image/png": "[encoded data removed]",
            "text/plain": [
              "<Figure size 432x288 with 1 Axes>"
            ]
          },
          "metadata": {
            "needs_background": "light"
          }
        }
      ]
    },
    {
      "cell_type": "code",
      "metadata": {
        "id": "vpr5kCs72pB9"
      },
      "source": [
        "state_input = np.empty(shape=(0, len(state)))\n",
        "for num in valid:\n",
        "    data = pd.read_csv('drive/MyDrive/PL_team_project/hs_' + str(num) + '_m08_0903_1355.csv', encoding='cp949')\n",
        "    result = np.sum([state==i for i in data['State']], axis=0)\n",
        "    result = result / np.sum(result)\n",
        "    # print(result)\n",
        "    # print(np.array([result]))\n",
        "    # print(state_input)\n",
        "    state_input = np.append(state_input, np.array([result]), axis=0)"
      ],
      "execution_count": 222,
      "outputs": []
    },
    {
      "cell_type": "code",
      "metadata": {
        "id": "HnC6yeie73Vk"
      },
      "source": [
        "from sklearn.cluster import KMeans"
      ],
      "execution_count": 86,
      "outputs": []
    },
    {
      "cell_type": "code",
      "metadata": {
        "colab": {
          "base_uri": "https://localhost:8080/",
          "height": 279
        },
        "id": "bGdznr6M8yBv",
        "outputId": "7dd7c16c-05ed-46e2-ddc2-f8fdc0b72efa"
      },
      "source": [
        "inertia = []\n",
        "for k in range(2, 10):\n",
        "    km = KMeans(n_clusters=k)\n",
        "    km.fit(state_input)\n",
        "    inertia.append(km.inertia_)\n",
        "plt.plot(range(2, 10), inertia)\n",
        "plt.xlabel('k')\n",
        "plt.ylabel('inertia')\n",
        "plt.show()"
      ],
      "execution_count": 107,
      "outputs": [
        {
          "output_type": "display_data",
          "data": {
            "image/png": "[encoded data removed]",
            "text/plain": [
              "<Figure size 432x288 with 1 Axes>"
            ]
          },
          "metadata": {
            "needs_background": "light"
          }
        }
      ]
    },
    {
      "cell_type": "code",
      "metadata": {
        "colab": {
          "base_uri": "https://localhost:8080/",
          "height": 775
        },
        "id": "UR3tV4tp-PhD",
        "outputId": "533f015c-2011-4963-da3d-529c14ff0fae"
      },
      "source": [
        "km = KMeans(n_clusters=4)\n",
        "km.fit(state_input)\n",
        "valid = np.array(valid)\n",
        "for i in range(km.n_clusters):\n",
        "    print(valid[km.labels_==i])\n",
        "# most = []\n",
        "for i in range(km.n_clusters):\n",
        "    print('num of people in cluster:', np.sum(km.labels_==i))\n",
        "    print('mostly done activity:', state[np.argmax(np.mean(state_input[km.labels_==i], axis=0))])\n",
        "    # print(np.round(np.mean(state_input[km.labels_==i], axis=0), 3))\n",
        "    # most.append(np.argmax(np.mean(state_input[km.labels_==i], axis=0)))\n",
        "    # print(np.round(np.std(state_input[km.labels_==i], axis=0), 3))\n",
        "    print('\\n')\n",
        "user_profile = user_profile_csv.to_numpy()\n",
        "fig, axs = plt.subplots((km.n_clusters + 1) // 2, 2)\n",
        "for i in range(km.n_clusters):\n",
        "    tmp = valid[km.labels_==i]\n",
        "    axs[i // 2, i % 2].hist([user_profile[j][2] for j in range(len(user_profile)) if user_profile[j][0] in tmp], range=(50, 90))\n",
        "    axs[i // 2, i % 2].set_ylim([0, 16])"
      ],
      "execution_count": 221,
      "outputs": [
        {
          "output_type": "stream",
          "name": "stdout",
          "text": [
            "[  315   341   505   511   513   532   546   650   665   673   705   760\n",
            "  1013  1019  1020  1022  1030  1050  1054 30048 30050 30053 30055 30056\n",
            " 30063]\n",
            "[  232   276   476   479   486   495   504   520   535   542   544   570\n",
            "   585   654   655   658   668   797   799   801   803   805   807   809\n",
            "   813  1001  1002  1008  1009  1016  1032  1036  1039  1045  1046  1048\n",
            "  1053  1056 30040 30045 30046 30049]\n",
            "[  230   490   494   512   518   519   534   536   581   644   672   720\n",
            "   768   796   800   802   806   811   812  1003  1004  1012  1018  1021\n",
            "  1026  1028  1033  1040  1042  1052  1055  1057  1059  1061  1062 30016\n",
            " 30035 30038 30039 30041 30044 30058]\n",
            "[ 228  273  339  477  488  492  496  527  547  580  582  583  642  656\n",
            "  661  662 1011 1015 1027 1029 1037 1043 1047]\n",
            "num of people in cluster: 25\n",
            "mostly done activity: 외출하기\n",
            "\n",
            "\n",
            "num of people in cluster: 42\n",
            "mostly done activity: 음식 꺼내기\n",
            "\n",
            "\n",
            "num of people in cluster: 42\n",
            "mostly done activity: TV 보기\n",
            "\n",
            "\n",
            "num of people in cluster: 23\n",
            "mostly done activity: 취미활동\n",
            "\n",
            "\n"
          ]
        },
        {
          "output_type": "display_data",
          "data": {
            "image/png": "[encoded data removed]",
            "text/plain": [
              "<Figure size 432x288 with 4 Axes>"
            ]
          },
          "metadata": {
            "needs_background": "light"
          }
        }
      ]
    },
    {
      "cell_type": "code",
      "metadata": {
        "id": "FakRKo02WKdL"
      },
      "source": [
        ""
      ],
      "execution_count": 218,
      "outputs": []
    }
  ]
}
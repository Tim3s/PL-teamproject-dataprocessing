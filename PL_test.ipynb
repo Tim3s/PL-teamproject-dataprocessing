{
  "nbformat": 4,
  "nbformat_minor": 0,
  "metadata": {
    "colab": {
      "name": "PL test",
      "provenance": [],
      "collapsed_sections": [],
      "mount_file_id": "1OhcSs89Gv55N3yYF3PpvFf4XxCQCrBl4",
      "authorship_tag": "ABX9TyNgMVqGMi1L0cbSEgmb+WwJ",
      "include_colab_link": true
    },
    "kernelspec": {
      "name": "python3",
      "display_name": "Python 3"
    },
    "language_info": {
      "name": "python"
    }
  },
  "cells": [
    {
      "cell_type": "markdown",
      "metadata": {
        "id": "view-in-github",
        "colab_type": "text"
      },
      "source": [
        "<a href=\"https://colab.research.google.com/github/Tim3s/PL-teamproject-dataprocessing/blob/main/PL_test.ipynb\" target=\"_parent\"><img src=\"https://colab.research.google.com/assets/colab-badge.svg\" alt=\"Open In Colab\"/></a>"
      ]
    },
    {
      "cell_type": "code",
      "metadata": {
        "id": "RUKAyrqy4Iiv"
      },
      "source": [
        "import numpy as np\n",
        "import pandas as pd\n",
        "user_profile_csv = pd.read_excel(\"drive/MyDrive/PL_team_project/user_profile.xlsx\")"
      ],
      "execution_count": 9,
      "outputs": []
    },
    {
      "cell_type": "code",
      "metadata": {
        "colab": {
          "base_uri": "https://localhost:8080/",
          "height": 203
        },
        "id": "L_DXc6HUqHRr",
        "outputId": "8ce81616-0328-4914-b536-470340280ec3"
      },
      "source": [
        "user_profile_csv.head()"
      ],
      "execution_count": 10,
      "outputs": [
        {
          "output_type": "execute_result",
          "data": {
            "text/html": [
              "<div>\n",
              "<style scoped>\n",
              "    .dataframe tbody tr th:only-of-type {\n",
              "        vertical-align: middle;\n",
              "    }\n",
              "\n",
              "    .dataframe tbody tr th {\n",
              "        vertical-align: top;\n",
              "    }\n",
              "\n",
              "    .dataframe thead th {\n",
              "        text-align: right;\n",
              "    }\n",
              "</style>\n",
              "<table border=\"1\" class=\"dataframe\">\n",
              "  <thead>\n",
              "    <tr style=\"text-align: right;\">\n",
              "      <th></th>\n",
              "      <th>id</th>\n",
              "      <th>sex</th>\n",
              "      <th>age</th>\n",
              "    </tr>\n",
              "  </thead>\n",
              "  <tbody>\n",
              "    <tr>\n",
              "      <th>0</th>\n",
              "      <td>228</td>\n",
              "      <td>F</td>\n",
              "      <td>80</td>\n",
              "    </tr>\n",
              "    <tr>\n",
              "      <th>1</th>\n",
              "      <td>230</td>\n",
              "      <td>F</td>\n",
              "      <td>73</td>\n",
              "    </tr>\n",
              "    <tr>\n",
              "      <th>2</th>\n",
              "      <td>232</td>\n",
              "      <td>M</td>\n",
              "      <td>84</td>\n",
              "    </tr>\n",
              "    <tr>\n",
              "      <th>3</th>\n",
              "      <td>273</td>\n",
              "      <td>F</td>\n",
              "      <td>83</td>\n",
              "    </tr>\n",
              "    <tr>\n",
              "      <th>4</th>\n",
              "      <td>276</td>\n",
              "      <td>F</td>\n",
              "      <td>56</td>\n",
              "    </tr>\n",
              "  </tbody>\n",
              "</table>\n",
              "</div>"
            ],
            "text/plain": [
              "    id sex  age\n",
              "0  228   F   80\n",
              "1  230   F   73\n",
              "2  232   M   84\n",
              "3  273   F   83\n",
              "4  276   F   56"
            ]
          },
          "metadata": {},
          "execution_count": 10
        }
      ]
    },
    {
      "cell_type": "code",
      "metadata": {
        "colab": {
          "base_uri": "https://localhost:8080/",
          "height": 265
        },
        "id": "lkVfaylJqMDA",
        "outputId": "0d968312-1ef8-486c-d1ca-bcbc1bbc7dc4"
      },
      "source": [
        "import matplotlib.pyplot as plt\n",
        "plt.hist(user_profile_csv['age'])\n",
        "plt.show()"
      ],
      "execution_count": 11,
      "outputs": [
        {
          "output_type": "display_data",
          "data": {
            "image/png": "[encoded data removed]",
            "text/plain": [
              "<Figure size 432x288 with 1 Axes>"
            ]
          },
          "metadata": {
            "needs_background": "light"
          }
        }
      ]
    },
    {
      "cell_type": "code",
      "metadata": {
        "colab": {
          "base_uri": "https://localhost:8080/"
        },
        "id": "phWoBMFD50wK",
        "outputId": "cffb5387-4f48-4059-b1f3-383fb50c69bb"
      },
      "source": [
        "np.unique(user_profile_csv['sex'], return_counts=True)"
      ],
      "execution_count": 12,
      "outputs": [
        {
          "output_type": "execute_result",
          "data": {
            "text/plain": [
              "(array(['F', 'M'], dtype=object), array([130,  40]))"
            ]
          },
          "metadata": {},
          "execution_count": 12
        }
      ]
    },
    {
      "cell_type": "code",
      "metadata": {
        "colab": {
          "base_uri": "https://localhost:8080/",
          "height": 417
        },
        "id": "WuaBcTTM7-Y8",
        "outputId": "364b1bb4-df64-490e-878f-640ad2b0ce1e"
      },
      "source": [
        "user_profile_csv"
      ],
      "execution_count": 13,
      "outputs": [
        {
          "output_type": "execute_result",
          "data": {
            "text/html": [
              "<div>\n",
              "<style scoped>\n",
              "    .dataframe tbody tr th:only-of-type {\n",
              "        vertical-align: middle;\n",
              "    }\n",
              "\n",
              "    .dataframe tbody tr th {\n",
              "        vertical-align: top;\n",
              "    }\n",
              "\n",
              "    .dataframe thead th {\n",
              "        text-align: right;\n",
              "    }\n",
              "</style>\n",
              "<table border=\"1\" class=\"dataframe\">\n",
              "  <thead>\n",
              "    <tr style=\"text-align: right;\">\n",
              "      <th></th>\n",
              "      <th>id</th>\n",
              "      <th>sex</th>\n",
              "      <th>age</th>\n",
              "    </tr>\n",
              "  </thead>\n",
              "  <tbody>\n",
              "    <tr>\n",
              "      <th>0</th>\n",
              "      <td>228</td>\n",
              "      <td>F</td>\n",
              "      <td>80</td>\n",
              "    </tr>\n",
              "    <tr>\n",
              "      <th>1</th>\n",
              "      <td>230</td>\n",
              "      <td>F</td>\n",
              "      <td>73</td>\n",
              "    </tr>\n",
              "    <tr>\n",
              "      <th>2</th>\n",
              "      <td>232</td>\n",
              "      <td>M</td>\n",
              "      <td>84</td>\n",
              "    </tr>\n",
              "    <tr>\n",
              "      <th>3</th>\n",
              "      <td>273</td>\n",
              "      <td>F</td>\n",
              "      <td>83</td>\n",
              "    </tr>\n",
              "    <tr>\n",
              "      <th>4</th>\n",
              "      <td>276</td>\n",
              "      <td>F</td>\n",
              "      <td>56</td>\n",
              "    </tr>\n",
              "    <tr>\n",
              "      <th>...</th>\n",
              "      <td>...</td>\n",
              "      <td>...</td>\n",
              "      <td>...</td>\n",
              "    </tr>\n",
              "    <tr>\n",
              "      <th>165</th>\n",
              "      <td>30075</td>\n",
              "      <td>M</td>\n",
              "      <td>53</td>\n",
              "    </tr>\n",
              "    <tr>\n",
              "      <th>166</th>\n",
              "      <td>30076</td>\n",
              "      <td>F</td>\n",
              "      <td>83</td>\n",
              "    </tr>\n",
              "    <tr>\n",
              "      <th>167</th>\n",
              "      <td>30077</td>\n",
              "      <td>M</td>\n",
              "      <td>78</td>\n",
              "    </tr>\n",
              "    <tr>\n",
              "      <th>168</th>\n",
              "      <td>30078</td>\n",
              "      <td>M</td>\n",
              "      <td>75</td>\n",
              "    </tr>\n",
              "    <tr>\n",
              "      <th>169</th>\n",
              "      <td>30079</td>\n",
              "      <td>F</td>\n",
              "      <td>51</td>\n",
              "    </tr>\n",
              "  </tbody>\n",
              "</table>\n",
              "<p>170 rows × 3 columns</p>\n",
              "</div>"
            ],
            "text/plain": [
              "        id sex  age\n",
              "0      228   F   80\n",
              "1      230   F   73\n",
              "2      232   M   84\n",
              "3      273   F   83\n",
              "4      276   F   56\n",
              "..     ...  ..  ...\n",
              "165  30075   M   53\n",
              "166  30076   F   83\n",
              "167  30077   M   78\n",
              "168  30078   M   75\n",
              "169  30079   F   51\n",
              "\n",
              "[170 rows x 3 columns]"
            ]
          },
          "metadata": {},
          "execution_count": 13
        }
      ]
    },
    {
      "cell_type": "code",
      "metadata": {
        "colab": {
          "base_uri": "https://localhost:8080/"
        },
        "id": "_AZVpSgu9qxZ",
        "outputId": "10b81b48-b660-4fd3-b429-b516eb3ba5b0"
      },
      "source": [
        "input = []\n",
        "state = np.array([])\n",
        "target = []\n",
        "valid = []\n",
        "for num in user_profile_csv['id']:\n",
        "    try:\n",
        "        data = pd.read_csv('drive/MyDrive/PL_team_project/hs_' + str(num) + '_m08_0903_1355.csv', encoding='cp949')\n",
        "    except:\n",
        "        print('not found:', num)\n",
        "        continue\n",
        "    try:\n",
        "        input.append((len(data[data['Z']=='매우 활동']) + 0.8 * len(data[data['Z']=='활동']) + 0.5 * len(data[data['Z'] == '미동'])) / len(data))\n",
        "    except:\n",
        "        print('empty:', num)\n",
        "        continue\n",
        "    state = np.unique(np.concatenate((np.unique(data['State']), state)))\n",
        "    valid.append(num)\n",
        "print(np.mean(input))\n",
        "state.sort()\n",
        "print(state)\n",
        "print(valid)"
      ],
      "execution_count": 18,
      "outputs": [
        {
          "output_type": "stream",
          "name": "stdout",
          "text": [
            "empty: 342\n",
            "empty: 509\n",
            "empty: 530\n",
            "empty: 537\n",
            "empty: 538\n",
            "empty: 540\n",
            "empty: 552\n",
            "empty: 574\n",
            "empty: 633\n",
            "empty: 635\n",
            "empty: 636\n",
            "empty: 653\n",
            "empty: 664\n",
            "empty: 667\n",
            "empty: 732\n",
            "empty: 804\n",
            "empty: 808\n",
            "empty: 1034\n",
            "empty: 30043\n",
            "empty: 30047\n",
            "empty: 30052\n",
            "empty: 30059\n",
            "empty: 30061\n",
            "empty: 30062\n",
            "not found: 30064\n",
            "not found: 30066\n",
            "not found: 30067\n",
            "not found: 30069\n",
            "not found: 30070\n",
            "not found: 30071\n",
            "not found: 30072\n",
            "not found: 30073\n",
            "not found: 30074\n",
            "not found: 30075\n",
            "not found: 30076\n",
            "not found: 30077\n",
            "not found: 30078\n",
            "not found: 30079\n",
            "0.13858967923457696\n",
            "['TV 보기' '간식 먹기' '간편식 준비하기' '귀가하기' '기상 약 복용' '기상하기' '꿀잠소리' '날씨 확인하기'\n",
            " '낮잠 기상하기' '낮잠자기' '냉장고 정리하기' '노래자랑' '뉴스 시청' '늦은 기상하기' '도전 실버벨' '듣는대화'\n",
            " '마음그림터' '마음세탁소' '마음스트레칭' '명언산책' '무비순이' '밥솥 열기' '밥솥 정리하기' '새벽 TV 시청'\n",
            " '새벽 간식' '새벽 화장실 이용' '석식' '설거지 하기' '수면' '순이 특별대화' '순이극장' '순이대화' '순이인생'\n",
            " '순이책방' '순이체조' '시낭독' '시시콜콜' '식사' '식사 중 TV 시청' '식후 약 복용' '실내운동하기' '실외운동하기'\n",
            " '야식 먹기' '영어교실' '외출하기' '요가명상' '운동 후 귀가' '음식 꺼내기' '이른 기상하기' '일반 약 복용'\n",
            " '일어교실' '전자렌지 청소하기' '조식' '주방 정리하기' '중식' '집 환기하기' '취미활동' '화장실 이용']\n",
            "[228, 230, 232, 273, 276, 315, 339, 341, 476, 477, 479, 486, 488, 490, 492, 494, 495, 496, 504, 505, 511, 512, 513, 518, 519, 520, 527, 532, 534, 535, 536, 542, 544, 546, 547, 570, 580, 581, 582, 583, 585, 642, 644, 650, 654, 655, 656, 658, 661, 662, 665, 668, 672, 673, 705, 720, 760, 768, 796, 797, 799, 800, 801, 802, 803, 805, 806, 807, 809, 811, 812, 813, 1001, 1002, 1003, 1004, 1008, 1009, 1011, 1012, 1013, 1015, 1016, 1018, 1019, 1020, 1021, 1022, 1026, 1027, 1028, 1029, 1030, 1032, 1033, 1036, 1037, 1039, 1040, 1042, 1043, 1045, 1046, 1047, 1048, 1050, 1052, 1053, 1054, 1055, 1056, 1057, 1059, 1061, 1062, 30016, 30035, 30038, 30039, 30040, 30041, 30044, 30045, 30046, 30048, 30049, 30050, 30053, 30055, 30056, 30058, 30063]\n"
          ]
        }
      ]
    },
    {
      "cell_type": "code",
      "metadata": {
        "colab": {
          "base_uri": "https://localhost:8080/"
        },
        "id": "j0OANZqYANXn",
        "outputId": "ce88e86d-7269-4d1b-b8b7-733814db1718"
      },
      "source": [
        "print(np.mean(input), np.std(input), np.max(input))"
      ],
      "execution_count": 19,
      "outputs": [
        {
          "output_type": "stream",
          "name": "stdout",
          "text": [
            "0.13858967923457696 0.13737835161118045 0.6800415800415801\n"
          ]
        }
      ]
    },
    {
      "cell_type": "code",
      "metadata": {
        "colab": {
          "base_uri": "https://localhost:8080/"
        },
        "id": "ZXQJZQ3SAaEm",
        "outputId": "7fd537e0-4e61-42e9-e572-9a17fe94d84d"
      },
      "source": [
        "print(valid[np.argmax(input)])"
      ],
      "execution_count": 20,
      "outputs": [
        {
          "output_type": "stream",
          "name": "stdout",
          "text": [
            "760\n"
          ]
        }
      ]
    },
    {
      "cell_type": "code",
      "metadata": {
        "colab": {
          "base_uri": "https://localhost:8080/",
          "height": 265
        },
        "id": "JwRbASEa0nfd",
        "outputId": "d944c67f-3c0c-460f-9275-e7b429d363bc"
      },
      "source": [
        "plt.hist(input)\n",
        "plt.show()"
      ],
      "execution_count": 21,
      "outputs": [
        {
          "output_type": "display_data",
          "data": {
            "image/png": "[encoded data removed]",
            "text/plain": [
              "<Figure size 432x288 with 1 Axes>"
            ]
          },
          "metadata": {
            "needs_background": "light"
          }
        }
      ]
    },
    {
      "cell_type": "code",
      "metadata": {
        "id": "C9Ocri2R2iI_"
      },
      "source": [
        "input /= np.max(input)"
      ],
      "execution_count": 22,
      "outputs": []
    },
    {
      "cell_type": "code",
      "metadata": {
        "colab": {
          "base_uri": "https://localhost:8080/"
        },
        "id": "vpr5kCs72pB9",
        "outputId": "49cc30a2-bd90-4c5b-f326-a2d6301a91df"
      },
      "source": [
        "state_input = np.empty(shape=(0, len(state)))\n",
        "print(state_input.shape)"
      ],
      "execution_count": 83,
      "outputs": [
        {
          "output_type": "stream",
          "name": "stdout",
          "text": [
            "(0, 58)\n"
          ]
        }
      ]
    },
    {
      "cell_type": "code",
      "metadata": {
        "id": "p4LFakGD4Iga"
      },
      "source": [
        "for num in valid:\n",
        "    data = pd.read_csv('drive/MyDrive/PL_team_project/hs_' + str(num) + '_m08_0903_1355.csv', encoding='cp949')\n",
        "    result = np.sum([state==i for i in data['State']], axis=0)\n",
        "    result = result / np.sum(result)\n",
        "    # print(result)\n",
        "    # print(np.array([result]))\n",
        "    # print(state_input)\n",
        "    state_input = np.append(state_input, np.array([result]), axis=0)"
      ],
      "execution_count": 84,
      "outputs": []
    },
    {
      "cell_type": "code",
      "metadata": {
        "colab": {
          "base_uri": "https://localhost:8080/"
        },
        "id": "wb56V2795YJx",
        "outputId": "04014fe5-79f4-4b59-9002-745915bede9d"
      },
      "source": [
        "print(state_input.shape)"
      ],
      "execution_count": 85,
      "outputs": [
        {
          "output_type": "stream",
          "name": "stdout",
          "text": [
            "(132, 58)\n"
          ]
        }
      ]
    },
    {
      "cell_type": "code",
      "metadata": {
        "id": "HnC6yeie73Vk"
      },
      "source": [
        "from sklearn.cluster import KMeans"
      ],
      "execution_count": 86,
      "outputs": []
    },
    {
      "cell_type": "code",
      "metadata": {
        "colab": {
          "base_uri": "https://localhost:8080/",
          "height": 279
        },
        "id": "bGdznr6M8yBv",
        "outputId": "7dd7c16c-05ed-46e2-ddc2-f8fdc0b72efa"
      },
      "source": [
        "inertia = []\n",
        "for k in range(2, 10):\n",
        "    km = KMeans(n_clusters=k)\n",
        "    km.fit(state_input)\n",
        "    inertia.append(km.inertia_)\n",
        "plt.plot(range(2, 10), inertia)\n",
        "plt.xlabel('k')\n",
        "plt.ylabel('inertia')\n",
        "plt.show()"
      ],
      "execution_count": 107,
      "outputs": [
        {
          "output_type": "display_data",
          "data": {
            "image/png": "[encoded data removed]",
            "text/plain": [
              "<Figure size 432x288 with 1 Axes>"
            ]
          },
          "metadata": {
            "needs_background": "light"
          }
        }
      ]
    },
    {
      "cell_type": "code",
      "metadata": {
        "colab": {
          "base_uri": "https://localhost:8080/"
        },
        "id": "UR3tV4tp-PhD",
        "outputId": "547361db-bd5b-40c5-b4f4-b78a6eb69680"
      },
      "source": [
        "km = KMeans(n_clusters=4)\n",
        "km.fit(state_input)"
      ],
      "execution_count": 122,
      "outputs": [
        {
          "output_type": "execute_result",
          "data": {
            "text/plain": [
              "KMeans(algorithm='auto', copy_x=True, init='k-means++', max_iter=300,\n",
              "       n_clusters=4, n_init=10, n_jobs=None, precompute_distances='auto',\n",
              "       random_state=None, tol=0.0001, verbose=0)"
            ]
          },
          "metadata": {},
          "execution_count": 122
        }
      ]
    },
    {
      "cell_type": "code",
      "metadata": {
        "colab": {
          "base_uri": "https://localhost:8080/"
        },
        "id": "SjyZDFtT-roY",
        "outputId": "aa01b2a2-cd80-46cb-f730-ca135fa5e89e"
      },
      "source": [
        "valid = np.array(valid)\n",
        "for i in range(km.n_clusters):\n",
        "    print(valid[km.labels_==i])"
      ],
      "execution_count": 123,
      "outputs": [
        {
          "output_type": "stream",
          "name": "stdout",
          "text": [
            "[  315   341   505   511   513   532   546   650   665   673   760  1013\n",
            "  1019  1020  1022  1030  1050  1054 30048 30050 30053 30055 30056 30063]\n",
            "[  230   490   494   512   518   519   534   536   547   581   644   672\n",
            "   720   768   796   800   802   803   806   811   812  1003  1004  1012\n",
            "  1018  1021  1026  1028  1032  1033  1037  1040  1042  1052  1055  1057\n",
            "  1059  1061  1062 30016 30035 30038 30039 30041 30044 30046 30058]\n",
            "[  232   276   476   479   486   495   504   520   535   542   544   570\n",
            "   585   654   655   658   668   797   799   801   805   807   809   813\n",
            "  1001  1002  1008  1009  1016  1036  1039  1045  1046  1048  1053  1056\n",
            " 30040 30045 30049]\n",
            "[ 228  273  339  477  488  492  496  527  580  582  583  642  656  661\n",
            "  662  705 1011 1015 1027 1029 1043 1047]\n",
            "[]\n"
          ]
        }
      ]
    },
    {
      "cell_type": "code",
      "metadata": {
        "colab": {
          "base_uri": "https://localhost:8080/"
        },
        "id": "mazp5sGV_fI3",
        "outputId": "812dc6e9-3465-45d5-ad22-409b3eae185e"
      },
      "source": [
        "# most = []\n",
        "for i in range(km.n_clusters):\n",
        "    print('num of people in cluster:', np.sum(km.labels_==i))\n",
        "    print('mostly done activity:', state[np.argmax(np.mean(state_input[km.labels_==i], axis=0))])\n",
        "    # print(np.round(np.mean(state_input[km.labels_==i], axis=0), 3))\n",
        "    # most.append(np.argmax(np.mean(state_input[km.labels_==i], axis=0)))\n",
        "    # print(np.round(np.std(state_input[km.labels_==i], axis=0), 3))\n",
        "    print('\\n')"
      ],
      "execution_count": 124,
      "outputs": [
        {
          "output_type": "stream",
          "name": "stdout",
          "text": [
            "num of people in cluster: 24\n",
            "mostly done activity: 외출하기\n",
            "\n",
            "\n",
            "num of people in cluster: 47\n",
            "mostly done activity: TV 보기\n",
            "\n",
            "\n",
            "num of people in cluster: 39\n",
            "mostly done activity: 음식 꺼내기\n",
            "\n",
            "\n",
            "num of people in cluster: 22\n",
            "mostly done activity: 취미활동\n",
            "\n",
            "\n"
          ]
        }
      ]
    },
    {
      "cell_type": "code",
      "metadata": {
        "colab": {
          "base_uri": "https://localhost:8080/",
          "height": 265
        },
        "id": "JSZq86MGDbAZ",
        "outputId": "7ed02469-0d7a-442a-c77f-745d9b715d57"
      },
      "source": [
        "user_profile = user_profile_csv.to_numpy()\n",
        "fig, axs = plt.subplots((km.n_clusters + 1) // 2, 2)\n",
        "for i in range(km.n_clusters):\n",
        "    tmp = valid[km.labels_==i]\n",
        "    axs[i // 2, i % 2].hist([user_profile[j][2] for j in range(len(user_profile)) if user_profile[j][0] in tmp], range=(50, 90))\n",
        "    axs[i // 2, i % 2].set_ylim([0, 16])"
      ],
      "execution_count": 141,
      "outputs": [
        {
          "output_type": "display_data",
          "data": {
            "image/png": "[encoded data removed]",
            "text/plain": [
              "<Figure size 432x288 with 4 Axes>"
            ]
          },
          "metadata": {
            "needs_background": "light"
          }
        }
      ]
    },
    {
      "cell_type": "code",
      "metadata": {
        "id": "kJ9ZPSy1LPAQ"
      },
      "source": [
        ""
      ],
      "execution_count": null,
      "outputs": []
    }
  ]
}
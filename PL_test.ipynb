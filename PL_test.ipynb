{
  "nbformat": 4,
  "nbformat_minor": 0,
  "metadata": {
    "colab": {
      "name": "PL test",
      "provenance": [],
      "collapsed_sections": [],
      "mount_file_id": "1OhcSs89Gv55N3yYF3PpvFf4XxCQCrBl4",
      "authorship_tag": "ABX9TyORvz3UmFz9j/7jkld3NkI3",
      "include_colab_link": true
    },
    "kernelspec": {
      "name": "python3",
      "display_name": "Python 3"
    },
    "language_info": {
      "name": "python"
    }
  },
  "cells": [
    {
      "cell_type": "markdown",
      "metadata": {
        "id": "view-in-github",
        "colab_type": "text"
      },
      "source": [
        "<a href=\"https://colab.research.google.com/github/Tim3s/PL-teamproject-dataprocessing/blob/main/PL_test.ipynb\" target=\"_parent\"><img src=\"https://colab.research.google.com/assets/colab-badge.svg\" alt=\"Open In Colab\"/></a>"
      ]
    },
    {
      "cell_type": "code",
      "metadata": {
        "id": "RUKAyrqy4Iiv"
      },
      "source": [
        "import numpy as np\n",
        "import pandas as pd\n",
        "import matplotlib.pyplot as plt"
      ],
      "execution_count": 12,
      "outputs": []
    },
    {
      "cell_type": "code",
      "metadata": {
        "colab": {
          "base_uri": "https://localhost:8080/",
          "height": 203
        },
        "id": "L_DXc6HUqHRr",
        "outputId": "11373bc7-bb8e-4ad4-8fd3-95a03e82a2cb"
      },
      "source": [
        "user_profile_csv = pd.read_excel(\"drive/MyDrive/PL_team_project/user_profile.xlsx\")\n",
        "user_profile_csv.head()"
      ],
      "execution_count": 13,
      "outputs": [
        {
          "output_type": "execute_result",
          "data": {
            "text/html": [
              "<div>\n",
              "<style scoped>\n",
              "    .dataframe tbody tr th:only-of-type {\n",
              "        vertical-align: middle;\n",
              "    }\n",
              "\n",
              "    .dataframe tbody tr th {\n",
              "        vertical-align: top;\n",
              "    }\n",
              "\n",
              "    .dataframe thead th {\n",
              "        text-align: right;\n",
              "    }\n",
              "</style>\n",
              "<table border=\"1\" class=\"dataframe\">\n",
              "  <thead>\n",
              "    <tr style=\"text-align: right;\">\n",
              "      <th></th>\n",
              "      <th>id</th>\n",
              "      <th>sex</th>\n",
              "      <th>age</th>\n",
              "    </tr>\n",
              "  </thead>\n",
              "  <tbody>\n",
              "    <tr>\n",
              "      <th>0</th>\n",
              "      <td>228</td>\n",
              "      <td>F</td>\n",
              "      <td>80</td>\n",
              "    </tr>\n",
              "    <tr>\n",
              "      <th>1</th>\n",
              "      <td>230</td>\n",
              "      <td>F</td>\n",
              "      <td>73</td>\n",
              "    </tr>\n",
              "    <tr>\n",
              "      <th>2</th>\n",
              "      <td>232</td>\n",
              "      <td>M</td>\n",
              "      <td>84</td>\n",
              "    </tr>\n",
              "    <tr>\n",
              "      <th>3</th>\n",
              "      <td>273</td>\n",
              "      <td>F</td>\n",
              "      <td>83</td>\n",
              "    </tr>\n",
              "    <tr>\n",
              "      <th>4</th>\n",
              "      <td>276</td>\n",
              "      <td>F</td>\n",
              "      <td>56</td>\n",
              "    </tr>\n",
              "  </tbody>\n",
              "</table>\n",
              "</div>"
            ],
            "text/plain": [
              "    id sex  age\n",
              "0  228   F   80\n",
              "1  230   F   73\n",
              "2  232   M   84\n",
              "3  273   F   83\n",
              "4  276   F   56"
            ]
          },
          "metadata": {},
          "execution_count": 13
        }
      ]
    },
    {
      "cell_type": "code",
      "metadata": {
        "colab": {
          "base_uri": "https://localhost:8080/",
          "height": 265
        },
        "id": "lkVfaylJqMDA",
        "outputId": "40d90819-5126-44ca-e1a9-83fc9327bb70"
      },
      "source": [
        "plt.hist(user_profile_csv['age'])\n",
        "plt.show()"
      ],
      "execution_count": 14,
      "outputs": [
        {
          "output_type": "display_data",
          "data": {
            "image/png": "[encoded data removed]",
            "text/plain": [
              "<Figure size 432x288 with 1 Axes>"
            ]
          },
          "metadata": {
            "needs_background": "light"
          }
        }
      ]
    },
    {
      "cell_type": "code",
      "metadata": {
        "colab": {
          "base_uri": "https://localhost:8080/"
        },
        "id": "phWoBMFD50wK",
        "outputId": "aa6c47d7-78e9-4ae1-d2ce-1f8a3f8e50ed"
      },
      "source": [
        "print(np.unique(user_profile_csv['sex'], return_counts=True))"
      ],
      "execution_count": 15,
      "outputs": [
        {
          "output_type": "stream",
          "name": "stdout",
          "text": [
            "(array(['F', 'M'], dtype=object), array([130,  40]))\n"
          ]
        }
      ]
    },
    {
      "cell_type": "code",
      "metadata": {
        "id": "oz5eYbADwTTX"
      },
      "source": [
        "import datetime as dt"
      ],
      "execution_count": 16,
      "outputs": []
    },
    {
      "cell_type": "code",
      "metadata": {
        "colab": {
          "base_uri": "https://localhost:8080/"
        },
        "id": "bjRyd2vWzfd9",
        "outputId": "4fa4efed-034b-418d-f7c8-3711a78aa021"
      },
      "source": [
        "state = np.array(\"TV 보기' '간식 먹기' '간편식 준비하기' '귀가하기' '기상 약 복용' '기상하기' '꿀잠소리' '날씨 확인하기' '낮잠 기상하기' '낮잠자기' '냉장고 정리하기' '노래자랑' '뉴스 시청' '늦은 기상하기' '도전 실버벨' '듣는대화' '마음그림터' '마음세탁소' '마음스트레칭' '명언산책' '무비순이' '밥솥 열기' '밥솥 정리하기' '새벽 TV 시청' '새벽 간식' '새벽 화장실 이용' '석식' '설거지 하기' '수면' '순이 특별대화' '순이극장' '순이대화' '순이인생' '순이책방' '순이체조' '시낭독' '시시콜콜' '식사' '식사 중 TV 시청' '식후 약 복용' '실내운동하기' '실외운동하기' '야식 먹기' '영어교실' '외출하기' '요가명상' '운동 후 귀가' '음식 꺼내기' '이른 기상하기' '일반 약 복용' '일어교실' '전자렌지 청소하기' '조식' '주방 정리하기' '중식' '집 환기하기' '취미활동' '화장실 이용\".split(\"' '\"))\n",
        "active = np.array(\"냉장고' '리모콘' '매우 활동' '물' '미동' '밥솥' '변기' '부동' '식사 판단' '싱크대' '약' '외출' '전자렌지' '창문' '책상' '프로그램' '현관문' '화장실' '활동\".split(' '))\n",
        "print(state)\n",
        "print(active)"
      ],
      "execution_count": 28,
      "outputs": [
        {
          "output_type": "stream",
          "name": "stdout",
          "text": [
            "['TV 보기' '간식 먹기' '간편식 준비하기' '귀가하기' '기상 약 복용' '기상하기' '꿀잠소리' '날씨 확인하기'\n",
            " '낮잠 기상하기' '낮잠자기' '냉장고 정리하기' '노래자랑' '뉴스 시청' '늦은 기상하기' '도전 실버벨' '듣는대화'\n",
            " '마음그림터' '마음세탁소' '마음스트레칭' '명언산책' '무비순이' '밥솥 열기' '밥솥 정리하기' '새벽 TV 시청'\n",
            " '새벽 간식' '새벽 화장실 이용' '석식' '설거지 하기' '수면' '순이 특별대화' '순이극장' '순이대화' '순이인생'\n",
            " '순이책방' '순이체조' '시낭독' '시시콜콜' '식사' '식사 중 TV 시청' '식후 약 복용' '실내운동하기' '실외운동하기'\n",
            " '야식 먹기' '영어교실' '외출하기' '요가명상' '운동 후 귀가' '음식 꺼내기' '이른 기상하기' '일반 약 복용'\n",
            " '일어교실' '전자렌지 청소하기' '조식' '주방 정리하기' '중식' '집 환기하기' '취미활동' '화장실 이용']\n",
            "[\"냉장고'\" \"'리모콘'\" \"'매우\" \"활동'\" \"'물'\" \"'미동'\" \"'밥솥'\" \"'변기'\" \"'부동'\" \"'식사\" \"판단'\"\n",
            " \"'싱크대'\" \"'약'\" \"'외출'\" \"'전자렌지'\" \"'창문'\" \"'책상'\" \"'프로그램'\" \"'현관문'\" \"'화장실'\"\n",
            " \"'활동\"]\n"
          ]
        }
      ]
    },
    {
      "cell_type": "code",
      "metadata": {
        "id": "2C8A5700UHjk"
      },
      "source": [
        "user_profile = user_profile_csv.to_numpy()"
      ],
      "execution_count": 52,
      "outputs": []
    },
    {
      "cell_type": "code",
      "metadata": {
        "colab": {
          "base_uri": "https://localhost:8080/"
        },
        "id": "_AZVpSgu9qxZ",
        "outputId": "06ab9309-e905-4ded-8daa-826e78eca414"
      },
      "source": [
        "active_input = []\n",
        "# active = np.array([])\n",
        "# state = np.array([])\n",
        "valid = []\n",
        "valid_age = []\n",
        "invalid = []\n",
        "small_data = []\n",
        "num_of_conversation = []\n",
        "no_pattern = []\n",
        "pattern_valid = []\n",
        "wake_valid = []\n",
        "wake_input = []\n",
        "break_valid = []\n",
        "break_input = []\n",
        "lunch_valid = []\n",
        "lunch_input = []\n",
        "dinner_valid = []\n",
        "dinner_input = []\n",
        "pattern_input = []\n",
        "\n",
        "for ptr in range(len(user_profile_csv)):\n",
        "    num = user_profile_csv['id'][ptr]\n",
        "    try:\n",
        "        data = pd.read_csv('drive/MyDrive/PL_team_project/hs_' + str(num) + '_m08_0903_1355.csv', encoding='cp949')\n",
        "    except:\n",
        "        invalid.append(num)\n",
        "        print('not found:', num)\n",
        "        continue\n",
        "\n",
        "    tmp = pd.to_datetime(data['Time'])\n",
        "    if len(tmp) <= 10:\n",
        "        small_data.append(num)\n",
        "        print('not enough data:', num)\n",
        "        continue\n",
        "    tmp = tmp[len(tmp)-1] - tmp[0]\n",
        "    if tmp < dt.timedelta(seconds=86400):\n",
        "        small_data.append(num)\n",
        "        print('not enough data:', num)\n",
        "        continue\n",
        "\n",
        "    tmp = data['Z']\n",
        "    tmp = [np.sum(np.sum((tmp=='매우 활동', tmp=='외출', tmp=='프로그램'), axis=0)>0),\\\n",
        "            np.sum(np.sum((data=='활동', data=='냉장고', data=='밥솥', data=='싱크대', data=='창문'), axis=0)>0),\\\n",
        "            np.sum(np.sum((data=='미동', data=='리모콘', data=='식사 판단', data=='약', data=='전자렌지'), axis=0)>0),\\\n",
        "            np.sum(np.sum((data=='부동', data=='변기'), axis=0)>0)]\n",
        "    # ['냉장고' '리모콘' '매우 활동' '물' '미동' '밥솥' '변기' '부동' '식사 판단' '싱크대' '약' '외출' '전자렌지'\n",
        "    # '창문' '프로그램' '현관문' '화장실' '활동']\n",
        "    if not sum(tmp):\n",
        "        small_data.append(num)\n",
        "        print('not enough data:', num)\n",
        "        continue\n",
        "    active_input.append((sum([tmp[i] * (4 - i) for i in range(4)]) / sum(tmp)))\n",
        "\n",
        "    tmp = data['State'].to_numpy()\n",
        "    if ('기상하기' not in tmp) and ('늦은 기상하기' not in tmp) and ('조식' not in tmp) and ('중식' not in tmp) and ('석식' not in tmp):\n",
        "        no_pattern.append(num)\n",
        "    else:\n",
        "        pattern_valid.append(num)\n",
        "        if ('기상하기' in tmp) or ('늦은 기상하기' in tmp):\n",
        "            wake_valid.append(num)\n",
        "            current = []\n",
        "            for i in range(len(tmp)):\n",
        "                if tmp[i] == '기상하기' or tmp[i] == '늦은 기상하기':\n",
        "                    current.append(pd.to_datetime(data['Time'][i]).to_pydatetime())\n",
        "                    current[-1] = dt.timedelta(hours=(current[-1].hour if current[-1].hour < 12 else -24 + current[-1].hour), minutes=current[-1].minute).seconds\n",
        "            wake_input.append(np.std(current))\n",
        "        if '조식' in tmp:\n",
        "            break_valid.append(num)\n",
        "            current = []\n",
        "            for i in range(len(tmp)):\n",
        "                if tmp[i] == '조식':\n",
        "                    current.append(pd.to_datetime(data['Time'][i]).to_pydatetime())\n",
        "                    current[-1] = dt.timedelta(hours=current[-1].hour, minutes=current[-1].minute).seconds\n",
        "            break_input.append(np.std(current))\n",
        "        if '중식' in tmp:\n",
        "            lunch_valid.append(num)\n",
        "            current = []\n",
        "            for i in range(len(tmp)):\n",
        "                if tmp[i] == '중식':\n",
        "                    current.append(pd.to_datetime(data['Time'][i]).to_pydatetime())\n",
        "                    current[-1] = dt.timedelta(hours=current[-1].hour, minutes=current[-1].minute).seconds\n",
        "            lunch_input.append(np.std(current))\n",
        "        if '석식' in tmp:\n",
        "            dinner_valid.append(num)\n",
        "            current = []\n",
        "            for i in range(len(tmp)):\n",
        "                if tmp[i] == '석식':\n",
        "                    current.append(pd.to_datetime(data['Time'][i]).to_pydatetime())\n",
        "                    current[-1] = dt.timedelta(hours=current[-1].hour, minutes=current[-1].minute).seconds\n",
        "            dinner_input.append(np.std(current))\n",
        "\n",
        "    tmp = [len(data['STT_1'].dropna()), len(data['STT_2'].dropna()), len(data['STT_3'].dropna())]\n",
        "    response = len([i for i in data['Message_1'].dropna() if i != '프로그램 메시지'])\n",
        "    tmp.append(tmp[0] / response * 100 if response else 100)\n",
        "    response = len([i for i in data['Message_2'].dropna() if i != '프로그램 메시지'])\n",
        "    tmp.append(tmp[1] / response * 100 if response else 100)\n",
        "    response = len([i for i in data['Message_3'].dropna() if i != '프로그램 메시지'])\n",
        "    tmp.append(tmp[2] / response * 100 if response else 100)\n",
        "    num_of_conversation.append(tmp)\n",
        "\n",
        "    # state = np.unique(np.concatenate((np.unique(data['State']), state)))\n",
        "    # active = np.unique(np.concatenate((active, data['Z'].dropna())))\n",
        "    valid.append(num)\n",
        "    valid_age.append(user_profile_csv['age'][ptr])\n",
        "\n",
        "wake_input = np.array(wake_input) / max(wake_input)\n",
        "break_input = np.array(break_input) / max(break_input)\n",
        "lunch_input = np.array(lunch_input) / max(lunch_input)\n",
        "dinner_input = np.array(dinner_input) / max(dinner_input)\n",
        "wakeptr = breakptr = lunchptr = dinnerptr = 0\n",
        "for num in pattern_valid:\n",
        "    current = []\n",
        "    if wakeptr < len(wake_valid) and wake_valid[wakeptr] == num:\n",
        "        current.append(1 - wake_input[wakeptr])\n",
        "        wakeptr += 1\n",
        "    if breakptr < len(break_valid) and break_valid[breakptr] == num:\n",
        "        current.append(1 - break_input[breakptr])\n",
        "        breakptr += 1\n",
        "    if lunchptr < len(lunch_valid) and lunch_valid[lunchptr] == num:\n",
        "        current.append(1 - lunch_input[lunchptr])\n",
        "        lunchptr += 1\n",
        "    if dinnerptr < len(dinner_valid) and dinner_valid[dinnerptr] == num:\n",
        "        current.append(1 - dinner_input[dinnerptr])\n",
        "        dinnerptr += 1\n",
        "    pattern_input.append(np.mean(current) * 100)\n",
        "\n",
        "active_input = np.array(active_input)\n",
        "state.sort()\n",
        "# print(state)\n",
        "# active.sort()\n",
        "# print(active)\n",
        "print(valid)\n",
        "print(pattern_valid)\n",
        "print(pattern_input)\n",
        "print(len(no_pattern), no_pattern)\n",
        "print(len(wake_valid), len(break_valid), len(lunch_valid), len(dinner_valid))\n",
        "print(np.max(wake_input), np.max(break_input), np.max(lunch_input), np.max(dinner_input))"
      ],
      "execution_count": 62,
      "outputs": [
        {
          "output_type": "stream",
          "name": "stdout",
          "text": [
            "not enough data: 273\n",
            "not enough data: 342\n",
            "not enough data: 504\n",
            "not enough data: 509\n",
            "not enough data: 530\n",
            "not enough data: 532\n",
            "not enough data: 537\n",
            "not enough data: 538\n",
            "not enough data: 540\n",
            "not enough data: 552\n",
            "not enough data: 574\n",
            "not enough data: 633\n",
            "not enough data: 635\n",
            "not enough data: 636\n",
            "not enough data: 653\n",
            "not enough data: 664\n",
            "not enough data: 667\n",
            "not enough data: 732\n",
            "not enough data: 804\n",
            "not enough data: 808\n",
            "not enough data: 1011\n",
            "not enough data: 1034\n",
            "not enough data: 1039\n",
            "not enough data: 1045\n",
            "not enough data: 1056\n",
            "not enough data: 30043\n",
            "not enough data: 30044\n",
            "not enough data: 30047\n",
            "not enough data: 30049\n",
            "not enough data: 30052\n",
            "not enough data: 30059\n",
            "not enough data: 30061\n",
            "not enough data: 30062\n",
            "not found: 30064\n",
            "not found: 30066\n",
            "not found: 30067\n",
            "not found: 30069\n",
            "not found: 30070\n",
            "not found: 30071\n",
            "not found: 30072\n",
            "not found: 30073\n",
            "not found: 30074\n",
            "not found: 30075\n",
            "not found: 30076\n",
            "not found: 30077\n",
            "not found: 30078\n",
            "not found: 30079\n",
            "[228, 230, 232, 276, 315, 339, 341, 476, 477, 479, 486, 488, 490, 492, 494, 495, 496, 505, 511, 512, 513, 518, 519, 520, 527, 534, 535, 536, 542, 544, 546, 547, 570, 580, 581, 582, 583, 585, 642, 644, 650, 654, 655, 656, 658, 661, 662, 665, 668, 672, 673, 705, 720, 760, 768, 796, 797, 799, 800, 801, 802, 803, 805, 806, 807, 809, 811, 812, 813, 1001, 1002, 1003, 1004, 1008, 1009, 1012, 1013, 1015, 1016, 1018, 1019, 1020, 1021, 1022, 1026, 1027, 1028, 1029, 1030, 1032, 1033, 1036, 1037, 1040, 1042, 1043, 1046, 1047, 1048, 1050, 1052, 1053, 1054, 1055, 1057, 1059, 1061, 1062, 30016, 30035, 30038, 30039, 30040, 30041, 30045, 30046, 30048, 30050, 30053, 30055, 30056, 30058, 30063]\n",
            "[228, 230, 232, 276, 315, 339, 341, 476, 477, 479, 486, 488, 490, 492, 494, 495, 496, 505, 511, 512, 518, 519, 520, 527, 534, 535, 536, 542, 544, 546, 547, 570, 580, 581, 582, 583, 585, 642, 644, 650, 654, 655, 656, 658, 661, 662, 665, 668, 672, 673, 705, 760, 796, 797, 799, 800, 801, 802, 803, 805, 806, 807, 809, 811, 812, 813, 1001, 1002, 1003, 1004, 1008, 1009, 1012, 1013, 1015, 1016, 1018, 1019, 1020, 1021, 1022, 1026, 1027, 1028, 1029, 1030, 1032, 1033, 1037, 1040, 1042, 1043, 1046, 1047, 1048, 1050, 1052, 1053, 1054, 1055, 1057, 1059, 1061, 1062, 30016, 30035, 30038, 30039, 30040, 30041, 30045, 30046, 30048, 30050, 30053, 30055, 30056, 30058, 30063]\n",
            "[71.70532419738582, 71.63264642087974, 82.6220012470925, 76.65355339482191, 85.96117685519687, 73.94011954427178, 86.95144395032915, 73.0126858256529, 69.93813657857622, 43.99461738882637, 61.160624279340745, 4.726949840515204, 61.397655147075895, 68.00842741709006, 67.75423051691125, 42.8163996047526, 80.45085835948385, 63.74296744755568, 77.14357923714876, 29.1314451592464, 100.0, 91.95242205871378, 84.80201170696878, 96.14912133850692, 65.95963286361442, 57.173554660886005, 40.17976115030658, 66.92704691054394, 44.17186213708053, 79.86210404681844, 47.702055308283676, 52.89648620730675, 98.19960644496632, 61.23956385510677, 69.79957412034847, 64.17480867120258, 65.41974803278553, 88.56851917874481, 52.03183489665284, 87.54751618649944, 84.60889838019439, 79.93590583115942, 51.966593156629656, 79.17068969058082, 64.53616874535291, 86.280529157909, 74.66146462708383, 47.23198650927906, 66.93234080873104, 69.81542231775833, 60.62001130645991, 77.67840394145563, 59.900593868720385, 44.81778174041715, 60.52332013728036, 44.43855756481538, 97.79451789508373, 69.32417891312302, 91.34312065733164, 45.94177766412879, 61.06491615512988, 38.003487195770994, 57.57712171402139, 67.93176230813872, 14.854743001723293, 35.17254191948199, 68.88906366726593, 65.31066396903802, 79.71160370478974, 82.5441249016354, 47.97878067276334, 79.52175988285957, 70.80026597236817, 54.16067398220703, 81.26237142057867, 69.77101117166909, 62.31695070333366, 13.472097190982845, 43.10324371738321, 65.15088755428994, 51.978114934477546, 65.60021224472152, 62.72661997158724, 68.04287467661142, 86.16428041414427, 81.97178647088755, 37.03160546876254, 57.649715087399315, 63.07903521397268, 73.3386442445984, 81.53666429855221, 72.78427195720253, 20.000712214506365, 93.59235237615083, 65.83685232228692, 11.599230115002602, 50.04106062385774, 53.56948208282726, 69.85182592327175, 39.82223663192344, 59.472737547961515, 62.97456130691438, 72.92473695885357, 56.86582627568328, 56.33692841749405, 71.94818576942764, 38.15447114625415, 56.06696199085983, 46.015196969152484, 61.447082590410105, 53.41638768571255, 57.99684839905399, 67.23824901315145, 76.40987465009785, 78.74750886947695, 92.64375087891656, 69.48237329597204, 65.20637440202509, 72.21379123419501]\n",
            "4 [513, 720, 768, 1036]\n",
            "114 81 89 88\n",
            "1.0 1.0 1.0 1.0\n"
          ]
        }
      ]
    },
    {
      "cell_type": "code",
      "metadata": {
        "colab": {
          "base_uri": "https://localhost:8080/"
        },
        "id": "vbii7o35ldZV",
        "outputId": "41217512-a405-4fe6-f1f5-feab75964a64"
      },
      "source": [
        "print(np.mean(num_of_conversation, axis=0), np.std(num_of_conversation, axis=0))\n",
        "print(np.max(num_of_conversation, axis=0))"
      ],
      "execution_count": 50,
      "outputs": [
        {
          "output_type": "stream",
          "name": "stdout",
          "text": [
            "[12.77235772  3.43902439  0.99186992 17.47974389 55.3959605  83.4795071 ] [23.27733571  7.81612503  2.61171823 31.35067627 38.14606185 28.59086032]\n",
            "[153.  60.  22. 100. 100. 100.]\n"
          ]
        }
      ]
    },
    {
      "cell_type": "code",
      "metadata": {
        "colab": {
          "base_uri": "https://localhost:8080/",
          "height": 315
        },
        "id": "j0OANZqYANXn",
        "outputId": "38290488-3d12-4051-c800-700822e6a883"
      },
      "source": [
        "active_input = active_input / np.max(active_input) * 100\n",
        "print(np.mean(active_input), np.std(active_input), np.max(active_input))\n",
        "print(valid[np.argmax(active_input)])\n",
        "plt.hist(active_input)\n",
        "plt.xlabel('activeness')\n",
        "plt.ylabel('count')\n",
        "plt.show()\n",
        "# active_input /= np.max(active_input)"
      ],
      "execution_count": 66,
      "outputs": [
        {
          "output_type": "stream",
          "name": "stdout",
          "text": [
            "67.43575251208263 10.425547402897973 100.0\n",
            "1036\n"
          ]
        },
        {
          "output_type": "display_data",
          "data": {
            "image/png": "[encoded data removed]",
            "text/plain": [
              "<Figure size 432x288 with 1 Axes>"
            ]
          },
          "metadata": {
            "needs_background": "light"
          }
        }
      ]
    },
    {
      "cell_type": "code",
      "metadata": {
        "colab": {
          "base_uri": "https://localhost:8080/",
          "height": 284
        },
        "id": "Cnv1lOYYVK3F",
        "outputId": "59d57a32-f254-489f-c621-a9520c4089c1"
      },
      "source": [
        "plt.hist(valid_age)\n",
        "print(np.min(valid_age), np.max(valid_age))"
      ],
      "execution_count": 64,
      "outputs": [
        {
          "output_type": "stream",
          "name": "stdout",
          "text": [
            "56 89\n"
          ]
        },
        {
          "output_type": "display_data",
          "data": {
            "image/png": "[encoded data removed]",
            "text/plain": [
              "<Figure size 432x288 with 1 Axes>"
            ]
          },
          "metadata": {
            "needs_background": "light"
          }
        }
      ]
    },
    {
      "cell_type": "code",
      "metadata": {
        "id": "j7Spral7V-R4"
      },
      "source": [
        "fifty_active = []\n",
        "sixty_active = []\n",
        "seventy_active = []\n",
        "eighty_active = []\n",
        "for i in range(len(valid_age)):\n",
        "    if valid_age[i] < 60:\n",
        "        fifty_active.append(active_input[i])\n",
        "    elif valid_age[i] < 70:\n",
        "        sixty_active.append(active_input[i])\n",
        "    elif valid_age[i] < 80:\n",
        "        seventy_active.append(active_input[i])\n",
        "    else:\n",
        "        eighty_active.append(active_input[i])"
      ],
      "execution_count": 68,
      "outputs": []
    },
    {
      "cell_type": "code",
      "metadata": {
        "colab": {
          "base_uri": "https://localhost:8080/",
          "height": 269
        },
        "id": "yuG07ffPXQGF",
        "outputId": "45fb6ff9-54d9-4443-e98b-620808121bf1"
      },
      "source": [
        "fig, axs = plt.subplots(2, 2)\n",
        "axs[0, 0].hist(fifty_active, range=(40, 100))\n",
        "axs[0, 0].set_ylim((0, 15))\n",
        "axs[0, 1].hist(sixty_active, range=(40, 100))\n",
        "axs[0, 1].set_ylim((0, 15))\n",
        "axs[1, 0].hist(seventy_active, range=(40, 100))\n",
        "axs[1, 0].set_ylim((0, 15))\n",
        "axs[1, 1].hist(eighty_active, range=(40, 100))\n",
        "axs[1, 1].set_ylim((0, 15))\n",
        "plt.show()"
      ],
      "execution_count": 71,
      "outputs": [
        {
          "output_type": "display_data",
          "data": {
            "image/png": "[encoded data removed]",
            "text/plain": [
              "<Figure size 432x288 with 4 Axes>"
            ]
          },
          "metadata": {
            "needs_background": "light"
          }
        }
      ]
    },
    {
      "cell_type": "code",
      "metadata": {
        "id": "vpr5kCs72pB9"
      },
      "source": [
        "state_input = np.empty(shape=(0, len(state)))\n",
        "for num in valid:\n",
        "    data = pd.read_csv('drive/MyDrive/PL_team_project/hs_' + str(num) + '_m08_0903_1355.csv', encoding='cp949')\n",
        "    result = np.sum([state==i for i in data['State']], axis=0)\n",
        "    result = result / np.sum(result)\n",
        "    # print(result)\n",
        "    # print(np.array([result]))\n",
        "    # print(state_input)\n",
        "    state_input = np.append(state_input, np.array([result]), axis=0)"
      ],
      "execution_count": 29,
      "outputs": []
    },
    {
      "cell_type": "code",
      "metadata": {
        "colab": {
          "base_uri": "https://localhost:8080/"
        },
        "id": "z6a-DwxC99qT",
        "outputId": "e3a837bc-77b5-4fd9-f830-14431af26680"
      },
      "source": [
        "print(state)\n",
        "print(state_input)"
      ],
      "execution_count": 30,
      "outputs": [
        {
          "output_type": "stream",
          "name": "stdout",
          "text": [
            "['TV 보기' '간식 먹기' '간편식 준비하기' '귀가하기' '기상 약 복용' '기상하기' '꿀잠소리' '날씨 확인하기'\n",
            " '낮잠 기상하기' '낮잠자기' '냉장고 정리하기' '노래자랑' '뉴스 시청' '늦은 기상하기' '도전 실버벨' '듣는대화'\n",
            " '마음그림터' '마음세탁소' '마음스트레칭' '명언산책' '무비순이' '밥솥 열기' '밥솥 정리하기' '새벽 TV 시청'\n",
            " '새벽 간식' '새벽 화장실 이용' '석식' '설거지 하기' '수면' '순이 특별대화' '순이극장' '순이대화' '순이인생'\n",
            " '순이책방' '순이체조' '시낭독' '시시콜콜' '식사' '식사 중 TV 시청' '식후 약 복용' '실내운동하기' '실외운동하기'\n",
            " '야식 먹기' '영어교실' '외출하기' '요가명상' '운동 후 귀가' '음식 꺼내기' '이른 기상하기' '일반 약 복용'\n",
            " '일어교실' '전자렌지 청소하기' '조식' '주방 정리하기' '중식' '집 환기하기' '취미활동' '화장실 이용']\n",
            "[[0.         0.0070922  0.         ... 0.0141844  0.28368794 0.        ]\n",
            " [0.25       0.15277778 0.175      ... 0.         0.025      0.        ]\n",
            " [0.         0.26648352 0.06868132 ... 0.22802198 0.         0.        ]\n",
            " ...\n",
            " [0.09751037 0.02697095 0.         ... 0.00207469 0.08091286 0.03526971]\n",
            " [0.17175573 0.00954198 0.00572519 ... 0.00572519 0.18129771 0.01145038]\n",
            " [0.03836317 0.02429668 0.         ... 0.         0.10230179 0.        ]]\n"
          ]
        }
      ]
    },
    {
      "cell_type": "code",
      "metadata": {
        "id": "HnC6yeie73Vk"
      },
      "source": [
        "from sklearn.cluster import KMeans"
      ],
      "execution_count": 31,
      "outputs": []
    },
    {
      "cell_type": "code",
      "metadata": {
        "colab": {
          "base_uri": "https://localhost:8080/",
          "height": 279
        },
        "id": "bGdznr6M8yBv",
        "outputId": "10a618cd-c1fe-4864-e8d2-0f24a90e8bff"
      },
      "source": [
        "inertia = []\n",
        "for k in range(2, 10):\n",
        "    km = KMeans(n_clusters=k)\n",
        "    km.fit(state_input)\n",
        "    inertia.append(km.inertia_)\n",
        "plt.plot(range(2, 10), inertia)\n",
        "plt.xlabel('k')\n",
        "plt.ylabel('inertia')\n",
        "plt.show()"
      ],
      "execution_count": 32,
      "outputs": [
        {
          "output_type": "display_data",
          "data": {
            "image/png": "[encoded data removed]",
            "text/plain": [
              "<Figure size 432x288 with 1 Axes>"
            ]
          },
          "metadata": {
            "needs_background": "light"
          }
        }
      ]
    },
    {
      "cell_type": "code",
      "metadata": {
        "colab": {
          "base_uri": "https://localhost:8080/",
          "height": 740
        },
        "id": "UR3tV4tp-PhD",
        "outputId": "14acdd4c-d88e-4784-c6d3-78cc2226d287"
      },
      "source": [
        "km = KMeans(n_clusters=4)\n",
        "km.fit(state_input)\n",
        "valid = np.array(valid)\n",
        "for i in range(km.n_clusters):\n",
        "    print(valid[km.labels_==i])\n",
        "for i in range(km.n_clusters):\n",
        "    print('num of people in cluster:', np.sum(km.labels_==i))\n",
        "    print('mostly done activity:', state[np.argmax(np.mean(state_input[km.labels_==i], axis=0))])\n",
        "    # print(np.round(np.mean(state_input[km.labels_==i], axis=0), 3))\n",
        "    # print(np.round(np.std(state_input[km.labels_==i], axis=0), 3))\n",
        "    print('\\n')\n",
        "user_profile = user_profile_csv.to_numpy()\n",
        "fig, axs = plt.subplots((km.n_clusters + 1) // 2, 2)\n",
        "for i in range(km.n_clusters):\n",
        "    tmp = valid[km.labels_==i]\n",
        "    axs[i // 2, i % 2].hist([user_profile[j][2] for j in range(len(user_profile)) if user_profile[j][0] in tmp], range=(50, 90))\n",
        "    axs[i // 2, i % 2].set_ylim([0, 16])\n",
        "plt.show()"
      ],
      "execution_count": 33,
      "outputs": [
        {
          "output_type": "stream",
          "name": "stdout",
          "text": [
            "[  315   341   505   511   513   546   650   665   673   760  1001  1013\n",
            "  1019  1020  1022  1030  1050  1054 30048 30050 30053 30055 30056 30063]\n",
            "[  230   490   494   495   512   518   519   534   536   581   644   672\n",
            "   720   768   796   800   802   806   811   812  1003  1004  1012  1018\n",
            "  1021  1026  1028  1032  1033  1040  1042  1052  1055  1057  1059  1061\n",
            "  1062 30016 30035 30038 30039 30041 30044 30046]\n",
            "[  228   339   477   488   492   496   527   547   580   582   583   642\n",
            "   656   661   662   705  1015  1027  1029  1037  1043  1047 30058]\n",
            "[  232   276   476   479   486   520   535   542   544   570   585   654\n",
            "   655   658   668   797   799   801   803   805   807   809   813  1002\n",
            "  1008  1009  1016  1036  1046  1048  1053 30040 30045]\n",
            "num of people in cluster: 24\n",
            "mostly done activity: 외출하기\n",
            "\n",
            "\n",
            "num of people in cluster: 44\n",
            "mostly done activity: TV 보기\n",
            "\n",
            "\n",
            "num of people in cluster: 23\n",
            "mostly done activity: 취미활동\n",
            "\n",
            "\n",
            "num of people in cluster: 33\n",
            "mostly done activity: 음식 꺼내기\n",
            "\n",
            "\n"
          ]
        },
        {
          "output_type": "display_data",
          "data": {
            "image/png": "[encoded data removed]",
            "text/plain": [
              "<Figure size 432x288 with 4 Axes>"
            ]
          },
          "metadata": {
            "needs_background": "light"
          }
        }
      ]
    },
    {
      "cell_type": "code",
      "metadata": {
        "id": "FakRKo02WKdL",
        "colab": {
          "base_uri": "https://localhost:8080/"
        },
        "outputId": "fae8a842-6f64-44b1-fc79-6584eed0570a"
      },
      "source": [
        "np.mean([dt.timedelta(hours=1), dt.timedelta(hours=2)])"
      ],
      "execution_count": 34,
      "outputs": [
        {
          "output_type": "execute_result",
          "data": {
            "text/plain": [
              "datetime.timedelta(seconds=5400)"
            ]
          },
          "metadata": {},
          "execution_count": 34
        }
      ]
    },
    {
      "cell_type": "code",
      "metadata": {
        "id": "AoFJxOv9EeNF"
      },
      "source": [
        ""
      ],
      "execution_count": 34,
      "outputs": []
    }
  ]
}
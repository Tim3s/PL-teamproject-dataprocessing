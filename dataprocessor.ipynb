{
  "nbformat": 4,
  "nbformat_minor": 0,
  "metadata": {
    "colab": {
      "name": "dataprocessor",
      "provenance": [],
      "collapsed_sections": [],
      "mount_file_id": "1w8YpZfGLNpM5v6U8EouPYljSz0Uk24rl",
      "authorship_tag": "ABX9TyMyJkqglw7AQI8PMYzFWjcy",
      "include_colab_link": true
    },
    "kernelspec": {
      "name": "python3",
      "display_name": "Python 3"
    },
    "language_info": {
      "name": "python"
    }
  },
  "cells": [
    {
      "cell_type": "markdown",
      "metadata": {
        "id": "view-in-github",
        "colab_type": "text"
      },
      "source": [
        "<a href=\"https://colab.research.google.com/github/Tim3s/PL-teamproject-dataprocessing/blob/main/dataprocessor.ipynb\" target=\"_parent\"><img src=\"https://colab.research.google.com/assets/colab-badge.svg\" alt=\"Open In Colab\"/></a>"
      ]
    },
    {
      "cell_type": "code",
      "metadata": {
        "id": "z2nbI5hfY72M"
      },
      "source": [
        "\"\"\"\n",
        "setting neccessary paths to check file\n",
        "\"\"\"\n",
        "\n",
        "user_profile_path = \"drive/MyDrive/PL_team_project/user_profile.xlsx\"\n",
        "user_data_path_before_id = 'drive/MyDrive/PL_team_project/hs_'\n",
        "user_data_path_after_id = '_m08_0903_1355.csv'\n",
        "user_data_encoder = 'cp949'\n",
        "state = ['TV 보기', '간식 먹기', '간편식 준비하기', '귀가하기', '기상 약 복용', '기상하기', '꿀잠소리', '날씨 확인하기', '낮잠 기상하기', '낮잠자기', '냉장고 정리하기', '노래자랑', '뉴스 시청', '늦은 기상하기', '도전 실버벨', '듣는대화', '마음그림터', '마음세탁소', '마음스트레칭', '명언산책', '무비순이', '밥솥 열기', '밥솥 정리하기', '새벽 TV 시청', '새벽 간식', '새벽 화장실 이용', '석식', '설거지 하기', '수면', '순이 특별대화', '순이극장', '순이대화', '순이인생', '순이책방', '순이체조', '시낭독', '시시콜콜', '식사', '식사 중 TV 시청', '식후 약 복용', '실내운동하기', '실외운동하기', '야식 먹기', '영어교실', '외출하기', '요가명상', '운동 후 귀가', '음식 꺼내기', '이른 기상하기', '일반 약 복용', '일어교실', '전자렌지 청소하기', '조식', '주방 정리하기', '중식', '집 환기하기', '취미활동', '화장실 이용']\n",
        "active = ['냉장고', '리모콘', '매우 활동', '물', '미동', '밥솥', '변기', '부동', '식사 판단', '싱크대', '약', '외출', '전자렌지', '창문', '책상', '프로그램', '현관문', '화장실', '활동']\n",
        "program = ['꿀잠소리', '노래자랑', '도전 실버벨', '듣는대화', '마음그림터', '마음세탁소', '마음스트레칭', '명언산책', '무비순이', '순이 특별대화', '순이극장', '순이대화', '순이인생', '순이책방', '순이체조', '시낭독', '시시콜콜', '영어교실', '요가명상', '일어교실']\n",
        "program_activeness4 = ['노래자랑', '순이체조']\n",
        "program_activeness3 = ['도전 실버벨', '마음세탁소', '마음스트레칭', '영어교실', '요가명상', '일어교실']\n",
        "program_activeness2 = ['듣는대화', '마음그림터', '순이 특별대화', '순이대화', '순이인생', '순이책방', '시시콜콜']\n",
        "program_activeness1 = ['꿀잠소리', '명언산책', '무비순이', '순이극장', '시낭독']\n",
        "in_act = ['TV 보기']\n",
        "hobby = ['취미활동']\n",
        "basic = ['음식 꺼내기']\n",
        "out_act = ['외출하기']\n",
        "overall_validness_path = 'drive/MyDrive/PL_team_project/processed_data/overall_validness.csv'\n",
        "active_frequency_path = 'drive/MyDrive/PL_team_project/processed_data/active_frequency.csv'\n",
        "cluster_path = 'drive/MyDrive/PL_team_project/processed_data/cluster.csv'\n",
        "activeness_path = 'drive/MyDrive/PL_team_project/processed_data/activeness.csv'\n",
        "regularity_path = 'drive/MyDrive/PL_team_project/processed_data/regularity.csv'\n",
        "program_path = 'drive/MyDrive/PL_team_project/processed_data/program.csv'\n",
        "response_path = 'drive/MyDrive/PL_team_project/processed_data/response.csv'\n",
        "friendship_path = 'drive/MyDrive/PL_team_project/processed_data/friendship.csv'"
      ],
      "execution_count": 4,
      "outputs": []
    },
    {
      "cell_type": "code",
      "metadata": {
        "id": "cECWJdHp31VX"
      },
      "source": [
        "# Please execute every time!\n",
        "import numpy as np\n",
        "import pandas as pd\n",
        "import matplotlib.pyplot as plt\n",
        "import datetime as dt\n",
        "from sklearn.cluster import KMeans\n",
        "import random\n",
        "from bisect import bisect_right\n",
        "\n",
        "user_profile_csv = pd.read_excel(user_profile_path)\n",
        "user_profile = user_profile_csv.to_numpy()"
      ],
      "execution_count": 2,
      "outputs": []
    },
    {
      "cell_type": "code",
      "metadata": {
        "id": "ZoG14Ib6W_3I"
      },
      "source": [
        ""
      ],
      "execution_count": null,
      "outputs": []
    }
  ]
}